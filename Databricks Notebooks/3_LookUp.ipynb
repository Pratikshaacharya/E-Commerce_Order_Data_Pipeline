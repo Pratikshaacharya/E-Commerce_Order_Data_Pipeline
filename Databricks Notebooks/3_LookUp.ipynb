{
 "cells": [
  {
   "cell_type": "markdown",
   "metadata": {
    "application/vnd.databricks.v1+cell": {
     "cellMetadata": {},
     "inputWidgets": {},
     "nuid": "d7b18986-c37e-40bc-a9a7-706c0da9c0f2",
     "showTitle": false,
     "tableResultSettingsMap": {},
     "title": ""
    }
   },
   "source": [
    "Setting task values to pass the information between the tasks in the workflow"
   ]
  },
  {
   "cell_type": "code",
   "execution_count": 0,
   "metadata": {
    "application/vnd.databricks.v1+cell": {
     "cellMetadata": {
      "byteLimit": 2048000,
      "rowLimit": 10000
     },
     "inputWidgets": {},
     "nuid": "e9fd4380-5007-43be-b50d-9cf554969aab",
     "showTitle": false,
     "tableResultSettingsMap": {},
     "title": ""
    }
   },
   "outputs": [],
   "source": [
    "files = [\n",
    "    {\n",
    "        \"sourcefolder\" : \"Customers\",\n",
    "        \"targetfolder\"  : \"Customers\"\n",
    "    },\n",
    "    {\n",
    "        \"sourcefolder\" : \"Products\",\n",
    "        \"targetfolder\"  : \"Products\"\n",
    "    },\n",
    "    {\n",
    "        \"sourcefolder\" : \"Orders\",\n",
    "        \"targetfolder\"  : \"Orders\"\n",
    "    },\n",
    "    {\n",
    "        \"sourcefolder\" : \"OrderItems\",\n",
    "        \"targetfolder\"  : \"OrderItems\"\n",
    "    },\n",
    "    {\n",
    "        \"sourcefolder\" : \"Payments\",\n",
    "        \"targetfolder\"  : \"Payments\"\n",
    "    },\n",
    "    \n",
    "]"
   ]
  },
  {
   "cell_type": "code",
   "execution_count": 0,
   "metadata": {
    "application/vnd.databricks.v1+cell": {
     "cellMetadata": {
      "byteLimit": 2048000,
      "rowLimit": 10000
     },
     "inputWidgets": {},
     "nuid": "b26b7127-9825-414d-8183-3dd6b602ec3d",
     "showTitle": false,
     "tableResultSettingsMap": {},
     "title": ""
    }
   },
   "outputs": [],
   "source": [
    "dbutils.jobs.taskValues.set(key = \"my_arr\", value = files)"
   ]
  }
 ],
 "metadata": {
  "application/vnd.databricks.v1+notebook": {
   "computePreferences": null,
   "dashboards": [],
   "environmentMetadata": {
    "base_environment": "",
    "environment_version": "2"
   },
   "inputWidgetPreferences": null,
   "language": "python",
   "notebookMetadata": {
    "pythonIndentUnit": 4
   },
   "notebookName": "3_LookUp",
   "widgets": {}
  },
  "language_info": {
   "name": "python"
  }
 },
 "nbformat": 4,
 "nbformat_minor": 0
}